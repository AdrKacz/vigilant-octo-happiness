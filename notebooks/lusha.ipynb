{
 "cells": [
  {
   "cell_type": "code",
   "execution_count": 42,
   "metadata": {},
   "outputs": [],
   "source": [
    "import httpx\n",
    "import shutil\n",
    "import sqlite3\n",
    "import uuid"
   ]
  },
  {
   "cell_type": "code",
   "execution_count": 6,
   "metadata": {},
   "outputs": [],
   "source": [
    "USERNAME = shutil.os.getenv(\"USER\")\n",
    "FIREFOX_COOKIE_PATH = f\"/Users/{USERNAME}/Library/Application Support/Firefox/Profiles/brqcjaua.default-release/cookies.sqlite\"\n",
    "def get_cookie(domain: str):\n",
    "    shutil.copy(FIREFOX_COOKIE_PATH, \"./cookies.sqlite\")\n",
    "    connector = sqlite3.connect(\"cookies.sqlite\")\n",
    "    cursor = connector.cursor()\n",
    "    cursor.execute(f\"SELECT name, value FROM moz_cookies WHERE host = '{domain}';\")\n",
    "    cookies = {name: value for name, value in cursor.fetchall()}\n",
    "    connector.close()\n",
    "    return cookies"
   ]
  },
  {
   "cell_type": "code",
   "execution_count": 7,
   "metadata": {},
   "outputs": [],
   "source": [
    "cookies = get_cookie(\".lusha.com\")"
   ]
  },
  {
   "cell_type": "code",
   "execution_count": 11,
   "metadata": {},
   "outputs": [],
   "source": [
    "r = httpx.get('https://dashboard-services.lusha.com/api/v1/account-assets/balances/display', cookies=cookies)"
   ]
  },
  {
   "cell_type": "code",
   "execution_count": null,
   "metadata": {},
   "outputs": [],
   "source": [
    "print(f\"\"\"Credits:\n",
    "Available = {r.json()['shared'][0]['total']}\n",
    "Used = {r.json()['shared'][0]['totalUsed']}\n",
    "Remaining = {r.json()['shared'][0]['total'] - r.json()['shared'][0]['totalUsed']}\n",
    "\"\"\")"
   ]
  },
  {
   "cell_type": "code",
   "execution_count": 78,
   "metadata": {},
   "outputs": [],
   "source": [
    "contacts = [{\n",
    "        'id': contact.get('id', ''),\n",
    "        'job_title': contact.get('job_title', {}).get('raw', ''),\n",
    "        'social_link': contact.get('social_link', ''),\n",
    "        'first_name': contact.get('name', {}).get('first', ''),\n",
    "        'last_name': contact.get('name', {}).get('first', '')} for contact in r.json()['contacts']['results']]"
   ]
  },
  {
   "cell_type": "code",
   "execution_count": 128,
   "metadata": {},
   "outputs": [],
   "source": [
    "def get_contacts(search):\n",
    "    r = httpx.post('https://dashboard-services.lusha.com/v2/prospecting-full', cookies=cookies, json={\n",
    "        'filters': {'searchText': [search]}, # mandatory\n",
    "        'filtersMetadata': {'isViewEmployeesMode': False},  # optional\n",
    "        'display': 'contacts', # optional\n",
    "        'pages': {'page': 0, 'pageSize': 25}, # optional\n",
    "        'sessionId': str(uuid.uuid4()), # mandatory\n",
    "        'searchTrigger': 'NewTab', # mandatory\n",
    "        'savedSearchId': 0, # mandatory\n",
    "        'bulkSearchCompanies': {}, # optional\n",
    "        'isRecent': False, # optional\n",
    "        'isSaved': False, # optional\n",
    "        'pageAbove400': None, # optional\n",
    "        'totalPagesAbove400': 0, # optional\n",
    "        'excludeRevealedContacts': False # optional\n",
    "    })\n",
    "    contacts = []\n",
    "    for result in r.json()['contacts']['results']:\n",
    "        contact = {\n",
    "            'id': result.get('id', ''),\n",
    "            'contact_id': result.get('contactId', ''),\n",
    "            'contact_input_id': result.get('contactInputId', ''),\n",
    "            'job_title': result.get('job_title', {}).get('raw', ''),\n",
    "            'social_link': result.get('social_link', ''),\n",
    "            'first_name': result.get('name', {}).get('first', ''),\n",
    "            'last_name': result.get('name', {}).get('last', ''),\n",
    "            'emails': [], 'phones': [], 'hidden_emails': [], 'hidden_phones': []}\n",
    "        for email in result.get('emails', []):\n",
    "            if email.get('status', '') == 'shown':\n",
    "                contact['emails'].append(email.get('address', ''))\n",
    "            else:\n",
    "                contact['hidden_emails'].append(email.get('id', ''))\n",
    "        for phone in result.get('phones', []):\n",
    "            if phone.get('status', '') == 'shown':\n",
    "                contact['phones'].append(phone.get('number', ''))\n",
    "            else:\n",
    "                contact['hidden_phones'].append(phone.get('id', ''))\n",
    "        contacts.append(contact)\n",
    "    return contacts, {'mask_id': r.json()['maskId'], 'request_id': r.json()['requestId']}"
   ]
  },
  {
   "cell_type": "code",
   "execution_count": 129,
   "metadata": {},
   "outputs": [],
   "source": [
    "contacts, session = get_contacts('Arthur')"
   ]
  },
  {
   "cell_type": "code",
   "execution_count": 132,
   "metadata": {},
   "outputs": [],
   "source": [
    "def unmask_emails(mask_id: str, request_id: str, contact):\n",
    "    r = httpx.post('https://dashboard-services.lusha.com/v1/api/shown-contacts/unmask', cookies=cookies, json={\n",
    "        'maskId': mask_id,\n",
    "        'contacts': [{\n",
    "            'uniqueId': contact['id'],\n",
    "            'contact_id': contact['contact_id'],\n",
    "            'contact_input_id': contact['contact_input_id'],\n",
    "            'phone_data_points_ids': [],\n",
    "            'email_data_points_ids': contact['hidden_emails']}],\n",
    "        'requestId': request_id,\n",
    "        'product': 'prospecting-full',\n",
    "        'useBulkCredits': False})\n",
    "    emails = []\n",
    "    for contact in r.json()['data']['data']['contacts']:\n",
    "        for email in contact['emails']:\n",
    "            emails.append(email['address'])\n",
    "    return emails"
   ]
  },
  {
   "cell_type": "code",
   "execution_count": 121,
   "metadata": {},
   "outputs": [],
   "source": [
    "def print_contact(contact):\n",
    "    print(f\"\"\"{contact['first_name']} {contact['last_name']} (hidden emails: {len(contact['hidden_emails'])}, hidden phones: {len(contact['hidden_phones'])})\"\"\")"
   ]
  },
  {
   "cell_type": "code",
   "execution_count": null,
   "metadata": {},
   "outputs": [],
   "source": [
    "print_contact(contacts[12])"
   ]
  },
  {
   "cell_type": "code",
   "execution_count": null,
   "metadata": {},
   "outputs": [],
   "source": [
    "unmask_emails(session['mask_id'], session['request_id'], contacts[12])"
   ]
  }
 ],
 "metadata": {
  "kernelspec": {
   "display_name": ".venv",
   "language": "python",
   "name": "python3"
  },
  "language_info": {
   "codemirror_mode": {
    "name": "ipython",
    "version": 3
   },
   "file_extension": ".py",
   "mimetype": "text/x-python",
   "name": "python",
   "nbconvert_exporter": "python",
   "pygments_lexer": "ipython3",
   "version": "3.13.0"
  }
 },
 "nbformat": 4,
 "nbformat_minor": 2
}
